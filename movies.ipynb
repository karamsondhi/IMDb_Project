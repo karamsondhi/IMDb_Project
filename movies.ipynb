{
 "metadata": {
  "language_info": {
   "codemirror_mode": {
    "name": "ipython",
    "version": 3
   },
   "file_extension": ".py",
   "mimetype": "text/x-python",
   "name": "python",
   "nbconvert_exporter": "python",
   "pygments_lexer": "ipython3",
   "version": "3.8.5-final"
  },
  "orig_nbformat": 2,
  "kernelspec": {
   "name": "python3",
   "display_name": "Python 3",
   "language": "python"
  }
 },
 "nbformat": 4,
 "nbformat_minor": 2,
 "cells": [
  {
   "cell_type": "code",
   "execution_count": 1,
   "metadata": {},
   "outputs": [],
   "source": [
    "import pandas as pd\n",
    "import numpy as np\n",
    "\n",
    "\n",
    "  "
   ]
  },
  {
   "cell_type": "code",
   "execution_count": 4,
   "metadata": {},
   "outputs": [
    {
     "output_type": "stream",
     "name": "stderr",
     "text": [
      "/Applications/anaconda3/lib/python3.8/site-packages/IPython/core/interactiveshell.py:3146: DtypeWarning: Columns (3) have mixed types.Specify dtype option on import or set low_memory=False.\n  has_raised = await self.run_ast_nodes(code_ast.body, cell_name,\n"
     ]
    },
    {
     "output_type": "execute_result",
     "data": {
      "text/plain": [
       "  imdb_title_id                        title               original_title  \\\n",
       "0     tt0000009                   Miss Jerry                   Miss Jerry   \n",
       "1     tt0000574  The Story of the Kelly Gang  The Story of the Kelly Gang   \n",
       "2     tt0001892               Den sorte drøm               Den sorte drøm   \n",
       "3     tt0002101                    Cleopatra                    Cleopatra   \n",
       "4     tt0002130                    L'Inferno                    L'Inferno   \n",
       "\n",
       "   year date_published                      genre  duration           country  \\\n",
       "0  1894     1894-10-09                    Romance        45               USA   \n",
       "1  1906     1906-12-26    Biography, Crime, Drama        70         Australia   \n",
       "2  1911     1911-08-19                      Drama        53  Germany, Denmark   \n",
       "3  1912     1912-11-13             Drama, History       100               USA   \n",
       "4  1911     1911-03-06  Adventure, Drama, Fantasy        68             Italy   \n",
       "\n",
       "  language                             director  ...  \\\n",
       "0     None                      Alexander Black  ...   \n",
       "1     None                         Charles Tait  ...   \n",
       "2      NaN                            Urban Gad  ...   \n",
       "3  English                   Charles L. Gaskill  ...   \n",
       "4  Italian  Francesco Bertolini, Adolfo Padovan  ...   \n",
       "\n",
       "                                              actors  \\\n",
       "0  Blanche Bayliss, William Courtenay, Chauncey D...   \n",
       "1  Elizabeth Tait, John Tait, Norman Campbell, Be...   \n",
       "2  Asta Nielsen, Valdemar Psilander, Gunnar Helse...   \n",
       "3  Helen Gardner, Pearl Sindelar, Miss Fielding, ...   \n",
       "4  Salvatore Papa, Arturo Pirovano, Giuseppe de L...   \n",
       "\n",
       "                                         description avg_vote votes   budget  \\\n",
       "0  The adventures of a female reporter in the 1890s.      5.9   154      NaN   \n",
       "1  True story of notorious Australian outlaw Ned ...      6.1   589   $ 2250   \n",
       "2  Two men of high rank are both wooing the beaut...      5.8   188      NaN   \n",
       "3  The fabled queen of Egypt's affair with Roman ...      5.2   446  $ 45000   \n",
       "4  Loosely adapted from Dante's Divine Comedy and...      7.0  2237      NaN   \n",
       "\n",
       "   usa_gross_income worlwide_gross_income metascore reviews_from_users  \\\n",
       "0               NaN                   NaN       NaN                1.0   \n",
       "1               NaN                   NaN       NaN                7.0   \n",
       "2               NaN                   NaN       NaN                5.0   \n",
       "3               NaN                   NaN       NaN               25.0   \n",
       "4               NaN                   NaN       NaN               31.0   \n",
       "\n",
       "   reviews_from_critics  \n",
       "0                   2.0  \n",
       "1                   7.0  \n",
       "2                   2.0  \n",
       "3                   3.0  \n",
       "4                  14.0  \n",
       "\n",
       "[5 rows x 22 columns]"
      ],
      "text/html": "<div>\n<style scoped>\n    .dataframe tbody tr th:only-of-type {\n        vertical-align: middle;\n    }\n\n    .dataframe tbody tr th {\n        vertical-align: top;\n    }\n\n    .dataframe thead th {\n        text-align: right;\n    }\n</style>\n<table border=\"1\" class=\"dataframe\">\n  <thead>\n    <tr style=\"text-align: right;\">\n      <th></th>\n      <th>imdb_title_id</th>\n      <th>title</th>\n      <th>original_title</th>\n      <th>year</th>\n      <th>date_published</th>\n      <th>genre</th>\n      <th>duration</th>\n      <th>country</th>\n      <th>language</th>\n      <th>director</th>\n      <th>...</th>\n      <th>actors</th>\n      <th>description</th>\n      <th>avg_vote</th>\n      <th>votes</th>\n      <th>budget</th>\n      <th>usa_gross_income</th>\n      <th>worlwide_gross_income</th>\n      <th>metascore</th>\n      <th>reviews_from_users</th>\n      <th>reviews_from_critics</th>\n    </tr>\n  </thead>\n  <tbody>\n    <tr>\n      <th>0</th>\n      <td>tt0000009</td>\n      <td>Miss Jerry</td>\n      <td>Miss Jerry</td>\n      <td>1894</td>\n      <td>1894-10-09</td>\n      <td>Romance</td>\n      <td>45</td>\n      <td>USA</td>\n      <td>None</td>\n      <td>Alexander Black</td>\n      <td>...</td>\n      <td>Blanche Bayliss, William Courtenay, Chauncey D...</td>\n      <td>The adventures of a female reporter in the 1890s.</td>\n      <td>5.9</td>\n      <td>154</td>\n      <td>NaN</td>\n      <td>NaN</td>\n      <td>NaN</td>\n      <td>NaN</td>\n      <td>1.0</td>\n      <td>2.0</td>\n    </tr>\n    <tr>\n      <th>1</th>\n      <td>tt0000574</td>\n      <td>The Story of the Kelly Gang</td>\n      <td>The Story of the Kelly Gang</td>\n      <td>1906</td>\n      <td>1906-12-26</td>\n      <td>Biography, Crime, Drama</td>\n      <td>70</td>\n      <td>Australia</td>\n      <td>None</td>\n      <td>Charles Tait</td>\n      <td>...</td>\n      <td>Elizabeth Tait, John Tait, Norman Campbell, Be...</td>\n      <td>True story of notorious Australian outlaw Ned ...</td>\n      <td>6.1</td>\n      <td>589</td>\n      <td>$ 2250</td>\n      <td>NaN</td>\n      <td>NaN</td>\n      <td>NaN</td>\n      <td>7.0</td>\n      <td>7.0</td>\n    </tr>\n    <tr>\n      <th>2</th>\n      <td>tt0001892</td>\n      <td>Den sorte drøm</td>\n      <td>Den sorte drøm</td>\n      <td>1911</td>\n      <td>1911-08-19</td>\n      <td>Drama</td>\n      <td>53</td>\n      <td>Germany, Denmark</td>\n      <td>NaN</td>\n      <td>Urban Gad</td>\n      <td>...</td>\n      <td>Asta Nielsen, Valdemar Psilander, Gunnar Helse...</td>\n      <td>Two men of high rank are both wooing the beaut...</td>\n      <td>5.8</td>\n      <td>188</td>\n      <td>NaN</td>\n      <td>NaN</td>\n      <td>NaN</td>\n      <td>NaN</td>\n      <td>5.0</td>\n      <td>2.0</td>\n    </tr>\n    <tr>\n      <th>3</th>\n      <td>tt0002101</td>\n      <td>Cleopatra</td>\n      <td>Cleopatra</td>\n      <td>1912</td>\n      <td>1912-11-13</td>\n      <td>Drama, History</td>\n      <td>100</td>\n      <td>USA</td>\n      <td>English</td>\n      <td>Charles L. Gaskill</td>\n      <td>...</td>\n      <td>Helen Gardner, Pearl Sindelar, Miss Fielding, ...</td>\n      <td>The fabled queen of Egypt's affair with Roman ...</td>\n      <td>5.2</td>\n      <td>446</td>\n      <td>$ 45000</td>\n      <td>NaN</td>\n      <td>NaN</td>\n      <td>NaN</td>\n      <td>25.0</td>\n      <td>3.0</td>\n    </tr>\n    <tr>\n      <th>4</th>\n      <td>tt0002130</td>\n      <td>L'Inferno</td>\n      <td>L'Inferno</td>\n      <td>1911</td>\n      <td>1911-03-06</td>\n      <td>Adventure, Drama, Fantasy</td>\n      <td>68</td>\n      <td>Italy</td>\n      <td>Italian</td>\n      <td>Francesco Bertolini, Adolfo Padovan</td>\n      <td>...</td>\n      <td>Salvatore Papa, Arturo Pirovano, Giuseppe de L...</td>\n      <td>Loosely adapted from Dante's Divine Comedy and...</td>\n      <td>7.0</td>\n      <td>2237</td>\n      <td>NaN</td>\n      <td>NaN</td>\n      <td>NaN</td>\n      <td>NaN</td>\n      <td>31.0</td>\n      <td>14.0</td>\n    </tr>\n  </tbody>\n</table>\n<p>5 rows × 22 columns</p>\n</div>"
     },
     "metadata": {},
     "execution_count": 4
    }
   ],
   "source": [
    "\n",
    "movies = pd.read_csv(\"/Users/Karam/Documents/GitHub/FTDSExercises/Project3/IMDB dataset/IMDb movies.csv\")\n",
    "movies.head()  "
   ]
  },
  {
   "cell_type": "code",
   "execution_count": 6,
   "metadata": {},
   "outputs": [
    {
     "output_type": "execute_result",
     "data": {
      "text/plain": [
       "  imdb_title_id  weighted_average_vote  total_votes  mean_vote  median_vote  \\\n",
       "0     tt0000009                    5.9          154        5.9          6.0   \n",
       "1     tt0000574                    6.1          589        6.3          6.0   \n",
       "2     tt0001892                    5.8          188        6.0          6.0   \n",
       "3     tt0002101                    5.2          446        5.3          5.0   \n",
       "4     tt0002130                    7.0         2237        6.9          7.0   \n",
       "\n",
       "   votes_10  votes_9  votes_8  votes_7  votes_6  ...  females_30age_avg_vote  \\\n",
       "0        12        4       10       43       28  ...                     5.7   \n",
       "1        57       18       58      137      139  ...                     6.2   \n",
       "2         6        6       17       44       52  ...                     5.8   \n",
       "3        15        8       16       62       98  ...                     5.5   \n",
       "4       210      225      436      641      344  ...                     7.3   \n",
       "\n",
       "   females_30age_votes  females_45age_avg_vote  females_45age_votes  \\\n",
       "0                 13.0                     4.5                  4.0   \n",
       "1                 23.0                     6.6                 14.0   \n",
       "2                  4.0                     6.8                  7.0   \n",
       "3                 14.0                     6.1                 21.0   \n",
       "4                 82.0                     7.4                 77.0   \n",
       "\n",
       "   top1000_voters_rating  top1000_voters_votes  us_voters_rating  \\\n",
       "0                    5.7                  34.0               6.4   \n",
       "1                    6.4                  66.0               6.0   \n",
       "2                    5.4                  32.0               6.2   \n",
       "3                    4.9                  57.0               5.5   \n",
       "4                    6.9                 139.0               7.0   \n",
       "\n",
       "   us_voters_votes  non_us_voters_rating  non_us_voters_votes  \n",
       "0             51.0                   6.0                 70.0  \n",
       "1             96.0                   6.2                331.0  \n",
       "2             31.0                   5.9                123.0  \n",
       "3            207.0                   4.7                105.0  \n",
       "4            488.0                   7.0               1166.0  \n",
       "\n",
       "[5 rows x 49 columns]"
      ],
      "text/html": "<div>\n<style scoped>\n    .dataframe tbody tr th:only-of-type {\n        vertical-align: middle;\n    }\n\n    .dataframe tbody tr th {\n        vertical-align: top;\n    }\n\n    .dataframe thead th {\n        text-align: right;\n    }\n</style>\n<table border=\"1\" class=\"dataframe\">\n  <thead>\n    <tr style=\"text-align: right;\">\n      <th></th>\n      <th>imdb_title_id</th>\n      <th>weighted_average_vote</th>\n      <th>total_votes</th>\n      <th>mean_vote</th>\n      <th>median_vote</th>\n      <th>votes_10</th>\n      <th>votes_9</th>\n      <th>votes_8</th>\n      <th>votes_7</th>\n      <th>votes_6</th>\n      <th>...</th>\n      <th>females_30age_avg_vote</th>\n      <th>females_30age_votes</th>\n      <th>females_45age_avg_vote</th>\n      <th>females_45age_votes</th>\n      <th>top1000_voters_rating</th>\n      <th>top1000_voters_votes</th>\n      <th>us_voters_rating</th>\n      <th>us_voters_votes</th>\n      <th>non_us_voters_rating</th>\n      <th>non_us_voters_votes</th>\n    </tr>\n  </thead>\n  <tbody>\n    <tr>\n      <th>0</th>\n      <td>tt0000009</td>\n      <td>5.9</td>\n      <td>154</td>\n      <td>5.9</td>\n      <td>6.0</td>\n      <td>12</td>\n      <td>4</td>\n      <td>10</td>\n      <td>43</td>\n      <td>28</td>\n      <td>...</td>\n      <td>5.7</td>\n      <td>13.0</td>\n      <td>4.5</td>\n      <td>4.0</td>\n      <td>5.7</td>\n      <td>34.0</td>\n      <td>6.4</td>\n      <td>51.0</td>\n      <td>6.0</td>\n      <td>70.0</td>\n    </tr>\n    <tr>\n      <th>1</th>\n      <td>tt0000574</td>\n      <td>6.1</td>\n      <td>589</td>\n      <td>6.3</td>\n      <td>6.0</td>\n      <td>57</td>\n      <td>18</td>\n      <td>58</td>\n      <td>137</td>\n      <td>139</td>\n      <td>...</td>\n      <td>6.2</td>\n      <td>23.0</td>\n      <td>6.6</td>\n      <td>14.0</td>\n      <td>6.4</td>\n      <td>66.0</td>\n      <td>6.0</td>\n      <td>96.0</td>\n      <td>6.2</td>\n      <td>331.0</td>\n    </tr>\n    <tr>\n      <th>2</th>\n      <td>tt0001892</td>\n      <td>5.8</td>\n      <td>188</td>\n      <td>6.0</td>\n      <td>6.0</td>\n      <td>6</td>\n      <td>6</td>\n      <td>17</td>\n      <td>44</td>\n      <td>52</td>\n      <td>...</td>\n      <td>5.8</td>\n      <td>4.0</td>\n      <td>6.8</td>\n      <td>7.0</td>\n      <td>5.4</td>\n      <td>32.0</td>\n      <td>6.2</td>\n      <td>31.0</td>\n      <td>5.9</td>\n      <td>123.0</td>\n    </tr>\n    <tr>\n      <th>3</th>\n      <td>tt0002101</td>\n      <td>5.2</td>\n      <td>446</td>\n      <td>5.3</td>\n      <td>5.0</td>\n      <td>15</td>\n      <td>8</td>\n      <td>16</td>\n      <td>62</td>\n      <td>98</td>\n      <td>...</td>\n      <td>5.5</td>\n      <td>14.0</td>\n      <td>6.1</td>\n      <td>21.0</td>\n      <td>4.9</td>\n      <td>57.0</td>\n      <td>5.5</td>\n      <td>207.0</td>\n      <td>4.7</td>\n      <td>105.0</td>\n    </tr>\n    <tr>\n      <th>4</th>\n      <td>tt0002130</td>\n      <td>7.0</td>\n      <td>2237</td>\n      <td>6.9</td>\n      <td>7.0</td>\n      <td>210</td>\n      <td>225</td>\n      <td>436</td>\n      <td>641</td>\n      <td>344</td>\n      <td>...</td>\n      <td>7.3</td>\n      <td>82.0</td>\n      <td>7.4</td>\n      <td>77.0</td>\n      <td>6.9</td>\n      <td>139.0</td>\n      <td>7.0</td>\n      <td>488.0</td>\n      <td>7.0</td>\n      <td>1166.0</td>\n    </tr>\n  </tbody>\n</table>\n<p>5 rows × 49 columns</p>\n</div>"
     },
     "metadata": {},
     "execution_count": 6
    }
   ],
   "source": [
    "ratings = pd.read_csv(\"//Users/Karam/Documents/GitHub/FTDSExercises/Project3/IMDB dataset/IMDb ratings.csv\")\n",
    "ratings.head()"
   ]
  },
  {
   "cell_type": "code",
   "execution_count": 8,
   "metadata": {},
   "outputs": [
    {
     "output_type": "execute_result",
     "data": {
      "text/plain": [
       "           duration      avg_vote         votes     metascore  \\\n",
       "count  85855.000000  85855.000000  8.585500e+04  13305.000000   \n",
       "mean     100.351418      5.898656  9.493490e+03     55.896881   \n",
       "std       22.553848      1.234987  5.357436e+04     17.784874   \n",
       "min       41.000000      1.000000  9.900000e+01      1.000000   \n",
       "25%       88.000000      5.200000  2.050000e+02     43.000000   \n",
       "50%       96.000000      6.100000  4.840000e+02     57.000000   \n",
       "75%      108.000000      6.800000  1.766500e+03     69.000000   \n",
       "max      808.000000      9.900000  2.278845e+06    100.000000   \n",
       "\n",
       "       reviews_from_users  reviews_from_critics  \n",
       "count        78258.000000          74058.000000  \n",
       "mean            46.040826             27.479989  \n",
       "std            178.511411             58.339158  \n",
       "min              1.000000              1.000000  \n",
       "25%              4.000000              3.000000  \n",
       "50%              9.000000              8.000000  \n",
       "75%             27.000000             23.000000  \n",
       "max          10472.000000            999.000000  "
      ],
      "text/html": "<div>\n<style scoped>\n    .dataframe tbody tr th:only-of-type {\n        vertical-align: middle;\n    }\n\n    .dataframe tbody tr th {\n        vertical-align: top;\n    }\n\n    .dataframe thead th {\n        text-align: right;\n    }\n</style>\n<table border=\"1\" class=\"dataframe\">\n  <thead>\n    <tr style=\"text-align: right;\">\n      <th></th>\n      <th>duration</th>\n      <th>avg_vote</th>\n      <th>votes</th>\n      <th>metascore</th>\n      <th>reviews_from_users</th>\n      <th>reviews_from_critics</th>\n    </tr>\n  </thead>\n  <tbody>\n    <tr>\n      <th>count</th>\n      <td>85855.000000</td>\n      <td>85855.000000</td>\n      <td>8.585500e+04</td>\n      <td>13305.000000</td>\n      <td>78258.000000</td>\n      <td>74058.000000</td>\n    </tr>\n    <tr>\n      <th>mean</th>\n      <td>100.351418</td>\n      <td>5.898656</td>\n      <td>9.493490e+03</td>\n      <td>55.896881</td>\n      <td>46.040826</td>\n      <td>27.479989</td>\n    </tr>\n    <tr>\n      <th>std</th>\n      <td>22.553848</td>\n      <td>1.234987</td>\n      <td>5.357436e+04</td>\n      <td>17.784874</td>\n      <td>178.511411</td>\n      <td>58.339158</td>\n    </tr>\n    <tr>\n      <th>min</th>\n      <td>41.000000</td>\n      <td>1.000000</td>\n      <td>9.900000e+01</td>\n      <td>1.000000</td>\n      <td>1.000000</td>\n      <td>1.000000</td>\n    </tr>\n    <tr>\n      <th>25%</th>\n      <td>88.000000</td>\n      <td>5.200000</td>\n      <td>2.050000e+02</td>\n      <td>43.000000</td>\n      <td>4.000000</td>\n      <td>3.000000</td>\n    </tr>\n    <tr>\n      <th>50%</th>\n      <td>96.000000</td>\n      <td>6.100000</td>\n      <td>4.840000e+02</td>\n      <td>57.000000</td>\n      <td>9.000000</td>\n      <td>8.000000</td>\n    </tr>\n    <tr>\n      <th>75%</th>\n      <td>108.000000</td>\n      <td>6.800000</td>\n      <td>1.766500e+03</td>\n      <td>69.000000</td>\n      <td>27.000000</td>\n      <td>23.000000</td>\n    </tr>\n    <tr>\n      <th>max</th>\n      <td>808.000000</td>\n      <td>9.900000</td>\n      <td>2.278845e+06</td>\n      <td>100.000000</td>\n      <td>10472.000000</td>\n      <td>999.000000</td>\n    </tr>\n  </tbody>\n</table>\n</div>"
     },
     "metadata": {},
     "execution_count": 8
    }
   ],
   "source": [
    "movies.describe()"
   ]
  },
  {
   "cell_type": "code",
   "execution_count": 11,
   "metadata": {},
   "outputs": [],
   "source": [
    "data = pd.DataFrame()"
   ]
  },
  {
   "cell_type": "code",
   "execution_count": 15,
   "metadata": {},
   "outputs": [
    {
     "output_type": "execute_result",
     "data": {
      "text/plain": [
       "5.898655873274613"
      ]
     },
     "metadata": {},
     "execution_count": 15
    }
   ],
   "source": [
    "c = movies['avg_vote'].mean()\n",
    "c"
   ]
  },
  {
   "cell_type": "code",
   "execution_count": 17,
   "metadata": {},
   "outputs": [
    {
     "output_type": "execute_result",
     "data": {
      "text/plain": [
       "9819.600000000006"
      ]
     },
     "metadata": {},
     "execution_count": 17
    }
   ],
   "source": [
    "m = movies[\"votes\"].quantile(0.9)\n",
    "m"
   ]
  },
  {
   "cell_type": "code",
   "execution_count": 19,
   "metadata": {},
   "outputs": [
    {
     "output_type": "execute_result",
     "data": {
      "text/plain": [
       "      imdb_title_id                                          title  \\\n",
       "47        tt0004972                         Nascita di una nazione   \n",
       "76        tt0006864                                    Intolerance   \n",
       "165       tt0010323               Il gabinetto del dottor Caligari   \n",
       "251       tt0012349                                     Il monello   \n",
       "252       tt0012364                     Il carrettiere della morte   \n",
       "...             ...                                            ...   \n",
       "85735     tt9777644                    Da 5 Bloods - Come fratelli   \n",
       "85747     tt9784456                            The Kissing Booth 2   \n",
       "85761     tt9806192                            Dov'è il mio corpo?   \n",
       "85811     tt9860728  Falling Inn Love - Ristrutturazione con amore   \n",
       "85839     tt9898858                                Coffee & Kareem   \n",
       "\n",
       "                                         original_title  year date_published  \\\n",
       "47                                The Birth of a Nation  1915     1915-03-21   \n",
       "76     Intolerance: Love's Struggle Throughout the Ages  1916     1918-02-24   \n",
       "165                        Das Cabinet des Dr. Caligari  1920     1920-02-27   \n",
       "251                                             The Kid  1921     1923-11-26   \n",
       "252                                           Körkarlen  1921           1922   \n",
       "...                                                 ...   ...            ...   \n",
       "85735                                       Da 5 Bloods  2020     2020-06-12   \n",
       "85747                               The Kissing Booth 2  2020     2020-07-24   \n",
       "85761                              J'ai perdu mon corps  2019     2019-11-29   \n",
       "85811                                  Falling Inn Love  2019     2019-08-29   \n",
       "85839                                   Coffee & Kareem  2020     2020-04-03   \n",
       "\n",
       "                           genre  duration  country  \\\n",
       "47           Drama, History, War       195      USA   \n",
       "76                Drama, History       163      USA   \n",
       "165     Fantasy, Horror, Mystery        76  Germany   \n",
       "251        Comedy, Drama, Family        68      USA   \n",
       "252       Drama, Fantasy, Horror       107   Sweden   \n",
       "...                          ...       ...      ...   \n",
       "85735      Adventure, Drama, War       154      USA   \n",
       "85747            Comedy, Romance       134  UK, USA   \n",
       "85761  Animation, Drama, Fantasy        81   France   \n",
       "85811            Comedy, Romance        98      USA   \n",
       "85839             Action, Comedy        88      USA   \n",
       "\n",
       "                                   language         director  ...  \\\n",
       "47                                     None    D.W. Griffith  ...   \n",
       "76                                  English    D.W. Griffith  ...   \n",
       "165                                  German     Robert Wiene  ...   \n",
       "251                           English, None  Charles Chaplin  ...   \n",
       "252                                 Swedish  Victor Sjöström  ...   \n",
       "...                                     ...              ...  ...   \n",
       "85735  English, Finnish, French, Vietnamese        Spike Lee  ...   \n",
       "85747                               English   Vince Marcello  ...   \n",
       "85761                                French    Jérémy Clapin  ...   \n",
       "85811                               English     Roger Kumble  ...   \n",
       "85839                               English    Michael Dowse  ...   \n",
       "\n",
       "                                                  actors  \\\n",
       "47     Henry B. Walthall, Lillian Gish, Mae Marsh, Mi...   \n",
       "76     Lillian Gish, Mae Marsh, Robert Harron, F.A. T...   \n",
       "165    Werner Krauss, Conrad Veidt, Friedrich Feher, ...   \n",
       "251    Carl Miller, Edna Purviance, Jackie Coogan, Ch...   \n",
       "252    Victor Sjöström, Hilda Borgström, Tore Svennbe...   \n",
       "...                                                  ...   \n",
       "85735  Delroy Lindo, Jonathan Majors, Clarke Peters, ...   \n",
       "85747  Joey King, Joel Courtney, Jacob Elordi, Molly ...   \n",
       "85761  Hakim Faris, Victoire Du Bois, Patrick d'Assum...   \n",
       "85811  Christina Milian, Adam Demos, Jeffrey Bowyer-C...   \n",
       "85839  Ed Helms, Taraji P. Henson, Terrence Little Ga...   \n",
       "\n",
       "                                             description avg_vote   votes  \\\n",
       "47     The Stoneman family finds its friendship with ...      6.3   22213   \n",
       "76     The story of a poor young woman, separated by ...      7.8   13875   \n",
       "165    Hypnotist Dr. Caligari uses a somnambulist, Ce...      8.1   55601   \n",
       "251    The Tramp cares for an abandoned child, but ev...      8.3  109038   \n",
       "252    On New Year's Eve, the driver of a ghostly car...      8.1   10054   \n",
       "...                                                  ...      ...     ...   \n",
       "85735  Four African American vets battle the forces o...      6.5   29694   \n",
       "85747  In the sequel to 2018's THE KISSING BOOTH, hig...      5.9   15189   \n",
       "85761  A story of Naoufel, a young man who is in love...      7.6   24010   \n",
       "85811  When city girl Gabriela spontaneously enters a...      5.6   14108   \n",
       "85839  Twelve-year-old Kareem Manning hires a crimina...      5.1   10627   \n",
       "\n",
       "         budget  usa_gross_income worlwide_gross_income metascore  \\\n",
       "47     $ 100000               NaN                   NaN       NaN   \n",
       "76     $ 385907               NaN                   NaN      99.0   \n",
       "165     $ 18000            $ 8811                $ 8811       NaN   \n",
       "251    $ 250000               NaN               $ 26916       NaN   \n",
       "252         NaN               NaN                   NaN       NaN   \n",
       "...         ...               ...                   ...       ...   \n",
       "85735       NaN               NaN                   NaN      82.0   \n",
       "85747       NaN               NaN                   NaN      39.0   \n",
       "85761       NaN               NaN             $ 1136431      80.0   \n",
       "85811       NaN               NaN                   NaN       NaN   \n",
       "85839       NaN               NaN                   NaN      35.0   \n",
       "\n",
       "      reviews_from_users  reviews_from_critics  \n",
       "47                 368.0                  97.0  \n",
       "76                 111.0                  77.0  \n",
       "165                237.0                 160.0  \n",
       "251                173.0                 105.0  \n",
       "252                 68.0                  82.0  \n",
       "...                  ...                   ...  \n",
       "85735              673.0                 217.0  \n",
       "85747              340.0                  46.0  \n",
       "85761              112.0                 106.0  \n",
       "85811              265.0                  32.0  \n",
       "85839              388.0                  64.0  \n",
       "\n",
       "[8586 rows x 22 columns]"
      ],
      "text/html": "<div>\n<style scoped>\n    .dataframe tbody tr th:only-of-type {\n        vertical-align: middle;\n    }\n\n    .dataframe tbody tr th {\n        vertical-align: top;\n    }\n\n    .dataframe thead th {\n        text-align: right;\n    }\n</style>\n<table border=\"1\" class=\"dataframe\">\n  <thead>\n    <tr style=\"text-align: right;\">\n      <th></th>\n      <th>imdb_title_id</th>\n      <th>title</th>\n      <th>original_title</th>\n      <th>year</th>\n      <th>date_published</th>\n      <th>genre</th>\n      <th>duration</th>\n      <th>country</th>\n      <th>language</th>\n      <th>director</th>\n      <th>...</th>\n      <th>actors</th>\n      <th>description</th>\n      <th>avg_vote</th>\n      <th>votes</th>\n      <th>budget</th>\n      <th>usa_gross_income</th>\n      <th>worlwide_gross_income</th>\n      <th>metascore</th>\n      <th>reviews_from_users</th>\n      <th>reviews_from_critics</th>\n    </tr>\n  </thead>\n  <tbody>\n    <tr>\n      <th>47</th>\n      <td>tt0004972</td>\n      <td>Nascita di una nazione</td>\n      <td>The Birth of a Nation</td>\n      <td>1915</td>\n      <td>1915-03-21</td>\n      <td>Drama, History, War</td>\n      <td>195</td>\n      <td>USA</td>\n      <td>None</td>\n      <td>D.W. Griffith</td>\n      <td>...</td>\n      <td>Henry B. Walthall, Lillian Gish, Mae Marsh, Mi...</td>\n      <td>The Stoneman family finds its friendship with ...</td>\n      <td>6.3</td>\n      <td>22213</td>\n      <td>$ 100000</td>\n      <td>NaN</td>\n      <td>NaN</td>\n      <td>NaN</td>\n      <td>368.0</td>\n      <td>97.0</td>\n    </tr>\n    <tr>\n      <th>76</th>\n      <td>tt0006864</td>\n      <td>Intolerance</td>\n      <td>Intolerance: Love's Struggle Throughout the Ages</td>\n      <td>1916</td>\n      <td>1918-02-24</td>\n      <td>Drama, History</td>\n      <td>163</td>\n      <td>USA</td>\n      <td>English</td>\n      <td>D.W. Griffith</td>\n      <td>...</td>\n      <td>Lillian Gish, Mae Marsh, Robert Harron, F.A. T...</td>\n      <td>The story of a poor young woman, separated by ...</td>\n      <td>7.8</td>\n      <td>13875</td>\n      <td>$ 385907</td>\n      <td>NaN</td>\n      <td>NaN</td>\n      <td>99.0</td>\n      <td>111.0</td>\n      <td>77.0</td>\n    </tr>\n    <tr>\n      <th>165</th>\n      <td>tt0010323</td>\n      <td>Il gabinetto del dottor Caligari</td>\n      <td>Das Cabinet des Dr. Caligari</td>\n      <td>1920</td>\n      <td>1920-02-27</td>\n      <td>Fantasy, Horror, Mystery</td>\n      <td>76</td>\n      <td>Germany</td>\n      <td>German</td>\n      <td>Robert Wiene</td>\n      <td>...</td>\n      <td>Werner Krauss, Conrad Veidt, Friedrich Feher, ...</td>\n      <td>Hypnotist Dr. Caligari uses a somnambulist, Ce...</td>\n      <td>8.1</td>\n      <td>55601</td>\n      <td>$ 18000</td>\n      <td>$ 8811</td>\n      <td>$ 8811</td>\n      <td>NaN</td>\n      <td>237.0</td>\n      <td>160.0</td>\n    </tr>\n    <tr>\n      <th>251</th>\n      <td>tt0012349</td>\n      <td>Il monello</td>\n      <td>The Kid</td>\n      <td>1921</td>\n      <td>1923-11-26</td>\n      <td>Comedy, Drama, Family</td>\n      <td>68</td>\n      <td>USA</td>\n      <td>English, None</td>\n      <td>Charles Chaplin</td>\n      <td>...</td>\n      <td>Carl Miller, Edna Purviance, Jackie Coogan, Ch...</td>\n      <td>The Tramp cares for an abandoned child, but ev...</td>\n      <td>8.3</td>\n      <td>109038</td>\n      <td>$ 250000</td>\n      <td>NaN</td>\n      <td>$ 26916</td>\n      <td>NaN</td>\n      <td>173.0</td>\n      <td>105.0</td>\n    </tr>\n    <tr>\n      <th>252</th>\n      <td>tt0012364</td>\n      <td>Il carrettiere della morte</td>\n      <td>Körkarlen</td>\n      <td>1921</td>\n      <td>1922</td>\n      <td>Drama, Fantasy, Horror</td>\n      <td>107</td>\n      <td>Sweden</td>\n      <td>Swedish</td>\n      <td>Victor Sjöström</td>\n      <td>...</td>\n      <td>Victor Sjöström, Hilda Borgström, Tore Svennbe...</td>\n      <td>On New Year's Eve, the driver of a ghostly car...</td>\n      <td>8.1</td>\n      <td>10054</td>\n      <td>NaN</td>\n      <td>NaN</td>\n      <td>NaN</td>\n      <td>NaN</td>\n      <td>68.0</td>\n      <td>82.0</td>\n    </tr>\n    <tr>\n      <th>...</th>\n      <td>...</td>\n      <td>...</td>\n      <td>...</td>\n      <td>...</td>\n      <td>...</td>\n      <td>...</td>\n      <td>...</td>\n      <td>...</td>\n      <td>...</td>\n      <td>...</td>\n      <td>...</td>\n      <td>...</td>\n      <td>...</td>\n      <td>...</td>\n      <td>...</td>\n      <td>...</td>\n      <td>...</td>\n      <td>...</td>\n      <td>...</td>\n      <td>...</td>\n      <td>...</td>\n    </tr>\n    <tr>\n      <th>85735</th>\n      <td>tt9777644</td>\n      <td>Da 5 Bloods - Come fratelli</td>\n      <td>Da 5 Bloods</td>\n      <td>2020</td>\n      <td>2020-06-12</td>\n      <td>Adventure, Drama, War</td>\n      <td>154</td>\n      <td>USA</td>\n      <td>English, Finnish, French, Vietnamese</td>\n      <td>Spike Lee</td>\n      <td>...</td>\n      <td>Delroy Lindo, Jonathan Majors, Clarke Peters, ...</td>\n      <td>Four African American vets battle the forces o...</td>\n      <td>6.5</td>\n      <td>29694</td>\n      <td>NaN</td>\n      <td>NaN</td>\n      <td>NaN</td>\n      <td>82.0</td>\n      <td>673.0</td>\n      <td>217.0</td>\n    </tr>\n    <tr>\n      <th>85747</th>\n      <td>tt9784456</td>\n      <td>The Kissing Booth 2</td>\n      <td>The Kissing Booth 2</td>\n      <td>2020</td>\n      <td>2020-07-24</td>\n      <td>Comedy, Romance</td>\n      <td>134</td>\n      <td>UK, USA</td>\n      <td>English</td>\n      <td>Vince Marcello</td>\n      <td>...</td>\n      <td>Joey King, Joel Courtney, Jacob Elordi, Molly ...</td>\n      <td>In the sequel to 2018's THE KISSING BOOTH, hig...</td>\n      <td>5.9</td>\n      <td>15189</td>\n      <td>NaN</td>\n      <td>NaN</td>\n      <td>NaN</td>\n      <td>39.0</td>\n      <td>340.0</td>\n      <td>46.0</td>\n    </tr>\n    <tr>\n      <th>85761</th>\n      <td>tt9806192</td>\n      <td>Dov'è il mio corpo?</td>\n      <td>J'ai perdu mon corps</td>\n      <td>2019</td>\n      <td>2019-11-29</td>\n      <td>Animation, Drama, Fantasy</td>\n      <td>81</td>\n      <td>France</td>\n      <td>French</td>\n      <td>Jérémy Clapin</td>\n      <td>...</td>\n      <td>Hakim Faris, Victoire Du Bois, Patrick d'Assum...</td>\n      <td>A story of Naoufel, a young man who is in love...</td>\n      <td>7.6</td>\n      <td>24010</td>\n      <td>NaN</td>\n      <td>NaN</td>\n      <td>$ 1136431</td>\n      <td>80.0</td>\n      <td>112.0</td>\n      <td>106.0</td>\n    </tr>\n    <tr>\n      <th>85811</th>\n      <td>tt9860728</td>\n      <td>Falling Inn Love - Ristrutturazione con amore</td>\n      <td>Falling Inn Love</td>\n      <td>2019</td>\n      <td>2019-08-29</td>\n      <td>Comedy, Romance</td>\n      <td>98</td>\n      <td>USA</td>\n      <td>English</td>\n      <td>Roger Kumble</td>\n      <td>...</td>\n      <td>Christina Milian, Adam Demos, Jeffrey Bowyer-C...</td>\n      <td>When city girl Gabriela spontaneously enters a...</td>\n      <td>5.6</td>\n      <td>14108</td>\n      <td>NaN</td>\n      <td>NaN</td>\n      <td>NaN</td>\n      <td>NaN</td>\n      <td>265.0</td>\n      <td>32.0</td>\n    </tr>\n    <tr>\n      <th>85839</th>\n      <td>tt9898858</td>\n      <td>Coffee &amp; Kareem</td>\n      <td>Coffee &amp; Kareem</td>\n      <td>2020</td>\n      <td>2020-04-03</td>\n      <td>Action, Comedy</td>\n      <td>88</td>\n      <td>USA</td>\n      <td>English</td>\n      <td>Michael Dowse</td>\n      <td>...</td>\n      <td>Ed Helms, Taraji P. Henson, Terrence Little Ga...</td>\n      <td>Twelve-year-old Kareem Manning hires a crimina...</td>\n      <td>5.1</td>\n      <td>10627</td>\n      <td>NaN</td>\n      <td>NaN</td>\n      <td>NaN</td>\n      <td>35.0</td>\n      <td>388.0</td>\n      <td>64.0</td>\n    </tr>\n  </tbody>\n</table>\n<p>8586 rows × 22 columns</p>\n</div>"
     },
     "metadata": {},
     "execution_count": 19
    }
   ],
   "source": [
    "data  = movies[movies['votes']>=m]\n",
    "data"
   ]
  },
  {
   "cell_type": "code",
   "execution_count": 20,
   "metadata": {},
   "outputs": [
    {
     "output_type": "execute_result",
     "data": {
      "text/plain": [
       "(8586, 22)"
      ]
     },
     "metadata": {},
     "execution_count": 20
    }
   ],
   "source": [
    "data.shape"
   ]
  },
  {
   "cell_type": "code",
   "execution_count": 21,
   "metadata": {},
   "outputs": [
    {
     "output_type": "execute_result",
     "data": {
      "text/plain": [
       "(85855, 22)"
      ]
     },
     "metadata": {},
     "execution_count": 21
    }
   ],
   "source": [
    "movies.shape"
   ]
  },
  {
   "cell_type": "code",
   "execution_count": 22,
   "metadata": {},
   "outputs": [
    {
     "output_type": "execute_result",
     "data": {
      "text/plain": [
       "imdb_title_id                    0\n",
       "weighted_average_vote            0\n",
       "total_votes                      0\n",
       "mean_vote                        0\n",
       "median_vote                      0\n",
       "votes_10                         0\n",
       "votes_9                          0\n",
       "votes_8                          0\n",
       "votes_7                          0\n",
       "votes_6                          0\n",
       "votes_5                          0\n",
       "votes_4                          0\n",
       "votes_3                          0\n",
       "votes_2                          0\n",
       "votes_1                          0\n",
       "allgenders_0age_avg_vote     52496\n",
       "allgenders_0age_votes        52496\n",
       "allgenders_18age_avg_vote      706\n",
       "allgenders_18age_votes         706\n",
       "allgenders_30age_avg_vote       10\n",
       "allgenders_30age_votes          10\n",
       "allgenders_45age_avg_vote       80\n",
       "allgenders_45age_votes          80\n",
       "males_allages_avg_vote           1\n",
       "males_allages_votes              1\n",
       "males_0age_avg_vote          58444\n",
       "males_0age_votes             58444\n",
       "males_18age_avg_vote          1465\n",
       "males_18age_votes             1465\n",
       "males_30age_avg_vote            12\n",
       "males_30age_votes               12\n",
       "males_45age_avg_vote           101\n",
       "males_45age_votes              101\n",
       "females_allages_avg_vote        81\n",
       "females_allages_votes           81\n",
       "females_0age_avg_vote        63738\n",
       "females_0age_votes           63738\n",
       "females_18age_avg_vote        6521\n",
       "females_18age_votes           6521\n",
       "females_30age_avg_vote         944\n",
       "females_30age_votes            944\n",
       "females_45age_avg_vote        2798\n",
       "females_45age_votes           2798\n",
       "top1000_voters_rating          679\n",
       "top1000_voters_votes           679\n",
       "us_voters_rating               209\n",
       "us_voters_votes                209\n",
       "non_us_voters_rating             1\n",
       "non_us_voters_votes              1\n",
       "dtype: int64"
      ]
     },
     "metadata": {},
     "execution_count": 22
    }
   ],
   "source": [
    "ratings.isnull().sum()"
   ]
  },
  {
   "cell_type": "code",
   "execution_count": 24,
   "metadata": {},
   "outputs": [
    {
     "output_type": "execute_result",
     "data": {
      "text/plain": [
       "  imdb_name_id             name               birth_name  height  \\\n",
       "0    nm0000001     Fred Astaire  Frederic Austerlitz Jr.   177.0   \n",
       "1    nm0000002    Lauren Bacall        Betty Joan Perske   174.0   \n",
       "2    nm0000003  Brigitte Bardot          Brigitte Bardot   166.0   \n",
       "3    nm0000004     John Belushi        John Adam Belushi   170.0   \n",
       "4    nm0000005   Ingmar Bergman     Ernst Ingmar Bergman   179.0   \n",
       "\n",
       "                                                 bio  \\\n",
       "0  Fred Astaire was born in Omaha, Nebraska, to J...   \n",
       "1  Lauren Bacall was born Betty Joan Perske on Se...   \n",
       "2  Brigitte Bardot was born on September 28, 1934...   \n",
       "3  John Belushi was born in Chicago, Illinois, US...   \n",
       "4  Ernst Ingmar Bergman was born July 14, 1918, t...   \n",
       "\n",
       "                                       birth_details date_of_birth  \\\n",
       "0               May 10, 1899 in Omaha, Nebraska, USA    1899-05-10   \n",
       "1  September 16, 1924 in The Bronx, New York City...    1924-09-16   \n",
       "2                September 28, 1934 in Paris, France    1934-09-28   \n",
       "3         January 24, 1949 in Chicago, Illinois, USA    1949-01-24   \n",
       "4      July 14, 1918 in Uppsala, Uppsala län, Sweden    1918-07-14   \n",
       "\n",
       "                            place_of_birth  \\\n",
       "0                     Omaha, Nebraska, USA   \n",
       "1  The Bronx, New York City, New York, USA   \n",
       "2                            Paris, France   \n",
       "3                   Chicago, Illinois, USA   \n",
       "4             Uppsala, Uppsala län, Sweden   \n",
       "\n",
       "                                       death_details date_of_death  \\\n",
       "0  June 22, 1987 in Los Angeles, California, USA ...    1987-06-22   \n",
       "1  August 12, 2014 in New York City, New York, US...    2014-08-12   \n",
       "2                                                NaN           NaN   \n",
       "3  March 5, 1982 in Hollywood, Los Angeles, Calif...    1982-03-05   \n",
       "4  July 30, 2007 in Fårö, Gotlands län, Sweden  (...    2007-07-30   \n",
       "\n",
       "                              place_of_death  \\\n",
       "0             Los Angeles, California, USA     \n",
       "1             New York City, New York, USA     \n",
       "2                                        NaN   \n",
       "3  Hollywood, Los Angeles, California, USA     \n",
       "4               Fårö, Gotlands län, Sweden     \n",
       "\n",
       "                         reason_of_death  \\\n",
       "0                              pneumonia   \n",
       "1                                 stroke   \n",
       "2                                    NaN   \n",
       "3  acute cocaine and heroin intoxication   \n",
       "4                         natural causes   \n",
       "\n",
       "                                      spouses_string  spouses  divorces  \\\n",
       "0  Robyn Smith  (27 June 1980 - 22 June 1987) (hi...        2         0   \n",
       "1  Jason Robards  (4 July 1961 - 10 September 196...        2         1   \n",
       "2  Bernard d'Ormale  (16 August 1992 - present)\\n...        4         3   \n",
       "3  Judith Belushi-Pisano  (31 December 1976 - 5 M...        1         0   \n",
       "4  Ingrid Bergman  (11 November 1971 - 20 May 199...        5         4   \n",
       "\n",
       "   spouses_with_children  children  \n",
       "0                      1         2  \n",
       "1                      2         3  \n",
       "2                      1         1  \n",
       "3                      0         0  \n",
       "4                      5         8  "
      ],
      "text/html": "<div>\n<style scoped>\n    .dataframe tbody tr th:only-of-type {\n        vertical-align: middle;\n    }\n\n    .dataframe tbody tr th {\n        vertical-align: top;\n    }\n\n    .dataframe thead th {\n        text-align: right;\n    }\n</style>\n<table border=\"1\" class=\"dataframe\">\n  <thead>\n    <tr style=\"text-align: right;\">\n      <th></th>\n      <th>imdb_name_id</th>\n      <th>name</th>\n      <th>birth_name</th>\n      <th>height</th>\n      <th>bio</th>\n      <th>birth_details</th>\n      <th>date_of_birth</th>\n      <th>place_of_birth</th>\n      <th>death_details</th>\n      <th>date_of_death</th>\n      <th>place_of_death</th>\n      <th>reason_of_death</th>\n      <th>spouses_string</th>\n      <th>spouses</th>\n      <th>divorces</th>\n      <th>spouses_with_children</th>\n      <th>children</th>\n    </tr>\n  </thead>\n  <tbody>\n    <tr>\n      <th>0</th>\n      <td>nm0000001</td>\n      <td>Fred Astaire</td>\n      <td>Frederic Austerlitz Jr.</td>\n      <td>177.0</td>\n      <td>Fred Astaire was born in Omaha, Nebraska, to J...</td>\n      <td>May 10, 1899 in Omaha, Nebraska, USA</td>\n      <td>1899-05-10</td>\n      <td>Omaha, Nebraska, USA</td>\n      <td>June 22, 1987 in Los Angeles, California, USA ...</td>\n      <td>1987-06-22</td>\n      <td>Los Angeles, California, USA</td>\n      <td>pneumonia</td>\n      <td>Robyn Smith  (27 June 1980 - 22 June 1987) (hi...</td>\n      <td>2</td>\n      <td>0</td>\n      <td>1</td>\n      <td>2</td>\n    </tr>\n    <tr>\n      <th>1</th>\n      <td>nm0000002</td>\n      <td>Lauren Bacall</td>\n      <td>Betty Joan Perske</td>\n      <td>174.0</td>\n      <td>Lauren Bacall was born Betty Joan Perske on Se...</td>\n      <td>September 16, 1924 in The Bronx, New York City...</td>\n      <td>1924-09-16</td>\n      <td>The Bronx, New York City, New York, USA</td>\n      <td>August 12, 2014 in New York City, New York, US...</td>\n      <td>2014-08-12</td>\n      <td>New York City, New York, USA</td>\n      <td>stroke</td>\n      <td>Jason Robards  (4 July 1961 - 10 September 196...</td>\n      <td>2</td>\n      <td>1</td>\n      <td>2</td>\n      <td>3</td>\n    </tr>\n    <tr>\n      <th>2</th>\n      <td>nm0000003</td>\n      <td>Brigitte Bardot</td>\n      <td>Brigitte Bardot</td>\n      <td>166.0</td>\n      <td>Brigitte Bardot was born on September 28, 1934...</td>\n      <td>September 28, 1934 in Paris, France</td>\n      <td>1934-09-28</td>\n      <td>Paris, France</td>\n      <td>NaN</td>\n      <td>NaN</td>\n      <td>NaN</td>\n      <td>NaN</td>\n      <td>Bernard d'Ormale  (16 August 1992 - present)\\n...</td>\n      <td>4</td>\n      <td>3</td>\n      <td>1</td>\n      <td>1</td>\n    </tr>\n    <tr>\n      <th>3</th>\n      <td>nm0000004</td>\n      <td>John Belushi</td>\n      <td>John Adam Belushi</td>\n      <td>170.0</td>\n      <td>John Belushi was born in Chicago, Illinois, US...</td>\n      <td>January 24, 1949 in Chicago, Illinois, USA</td>\n      <td>1949-01-24</td>\n      <td>Chicago, Illinois, USA</td>\n      <td>March 5, 1982 in Hollywood, Los Angeles, Calif...</td>\n      <td>1982-03-05</td>\n      <td>Hollywood, Los Angeles, California, USA</td>\n      <td>acute cocaine and heroin intoxication</td>\n      <td>Judith Belushi-Pisano  (31 December 1976 - 5 M...</td>\n      <td>1</td>\n      <td>0</td>\n      <td>0</td>\n      <td>0</td>\n    </tr>\n    <tr>\n      <th>4</th>\n      <td>nm0000005</td>\n      <td>Ingmar Bergman</td>\n      <td>Ernst Ingmar Bergman</td>\n      <td>179.0</td>\n      <td>Ernst Ingmar Bergman was born July 14, 1918, t...</td>\n      <td>July 14, 1918 in Uppsala, Uppsala län, Sweden</td>\n      <td>1918-07-14</td>\n      <td>Uppsala, Uppsala län, Sweden</td>\n      <td>July 30, 2007 in Fårö, Gotlands län, Sweden  (...</td>\n      <td>2007-07-30</td>\n      <td>Fårö, Gotlands län, Sweden</td>\n      <td>natural causes</td>\n      <td>Ingrid Bergman  (11 November 1971 - 20 May 199...</td>\n      <td>5</td>\n      <td>4</td>\n      <td>5</td>\n      <td>8</td>\n    </tr>\n  </tbody>\n</table>\n</div>"
     },
     "metadata": {},
     "execution_count": 24
    }
   ],
   "source": [
    "names = pd.read_csv(\"//Users/Karam/Documents/GitHub/FTDSExercises/Project3/IMDB dataset/IMDb names.csv\")\n",
    "names.head()"
   ]
  },
  {
   "cell_type": "code",
   "execution_count": 26,
   "metadata": {},
   "outputs": [
    {
     "output_type": "execute_result",
     "data": {
      "text/plain": [
       "       imdb_title_id  ordering imdb_name_id         category    job  \\\n",
       "0          tt0000009         1    nm0063086          actress    NaN   \n",
       "1          tt0000009         2    nm0183823            actor    NaN   \n",
       "2          tt0000009         3    nm1309758            actor    NaN   \n",
       "3          tt0000009         4    nm0085156         director    NaN   \n",
       "4          tt0000574         1    nm0846887          actress    NaN   \n",
       "...              ...       ...          ...              ...    ...   \n",
       "835508     tt9914942         6    nm3678448           writer    NaN   \n",
       "835509     tt9914942         7    nm9361716           writer  novel   \n",
       "835510     tt9914942         8    nm2262072         composer    NaN   \n",
       "835511     tt9914942         9    nm1966322  cinematographer    NaN   \n",
       "835512     tt9914942        10    nm0739828           editor    NaN   \n",
       "\n",
       "                                               characters  \n",
       "0                [\"Miss Geraldine Holbrook (Miss Jerry)\"]  \n",
       "1                                        [\"Mr. Hamilton\"]  \n",
       "2       [\"Chauncey Depew - the Director of the New Yor...  \n",
       "3                                                     NaN  \n",
       "4                                          [\"Kate Kelly\"]  \n",
       "...                                                   ...  \n",
       "835508                                                NaN  \n",
       "835509                                                NaN  \n",
       "835510                                                NaN  \n",
       "835511                                                NaN  \n",
       "835512                                                NaN  \n",
       "\n",
       "[835513 rows x 6 columns]"
      ],
      "text/html": "<div>\n<style scoped>\n    .dataframe tbody tr th:only-of-type {\n        vertical-align: middle;\n    }\n\n    .dataframe tbody tr th {\n        vertical-align: top;\n    }\n\n    .dataframe thead th {\n        text-align: right;\n    }\n</style>\n<table border=\"1\" class=\"dataframe\">\n  <thead>\n    <tr style=\"text-align: right;\">\n      <th></th>\n      <th>imdb_title_id</th>\n      <th>ordering</th>\n      <th>imdb_name_id</th>\n      <th>category</th>\n      <th>job</th>\n      <th>characters</th>\n    </tr>\n  </thead>\n  <tbody>\n    <tr>\n      <th>0</th>\n      <td>tt0000009</td>\n      <td>1</td>\n      <td>nm0063086</td>\n      <td>actress</td>\n      <td>NaN</td>\n      <td>[\"Miss Geraldine Holbrook (Miss Jerry)\"]</td>\n    </tr>\n    <tr>\n      <th>1</th>\n      <td>tt0000009</td>\n      <td>2</td>\n      <td>nm0183823</td>\n      <td>actor</td>\n      <td>NaN</td>\n      <td>[\"Mr. Hamilton\"]</td>\n    </tr>\n    <tr>\n      <th>2</th>\n      <td>tt0000009</td>\n      <td>3</td>\n      <td>nm1309758</td>\n      <td>actor</td>\n      <td>NaN</td>\n      <td>[\"Chauncey Depew - the Director of the New Yor...</td>\n    </tr>\n    <tr>\n      <th>3</th>\n      <td>tt0000009</td>\n      <td>4</td>\n      <td>nm0085156</td>\n      <td>director</td>\n      <td>NaN</td>\n      <td>NaN</td>\n    </tr>\n    <tr>\n      <th>4</th>\n      <td>tt0000574</td>\n      <td>1</td>\n      <td>nm0846887</td>\n      <td>actress</td>\n      <td>NaN</td>\n      <td>[\"Kate Kelly\"]</td>\n    </tr>\n    <tr>\n      <th>...</th>\n      <td>...</td>\n      <td>...</td>\n      <td>...</td>\n      <td>...</td>\n      <td>...</td>\n      <td>...</td>\n    </tr>\n    <tr>\n      <th>835508</th>\n      <td>tt9914942</td>\n      <td>6</td>\n      <td>nm3678448</td>\n      <td>writer</td>\n      <td>NaN</td>\n      <td>NaN</td>\n    </tr>\n    <tr>\n      <th>835509</th>\n      <td>tt9914942</td>\n      <td>7</td>\n      <td>nm9361716</td>\n      <td>writer</td>\n      <td>novel</td>\n      <td>NaN</td>\n    </tr>\n    <tr>\n      <th>835510</th>\n      <td>tt9914942</td>\n      <td>8</td>\n      <td>nm2262072</td>\n      <td>composer</td>\n      <td>NaN</td>\n      <td>NaN</td>\n    </tr>\n    <tr>\n      <th>835511</th>\n      <td>tt9914942</td>\n      <td>9</td>\n      <td>nm1966322</td>\n      <td>cinematographer</td>\n      <td>NaN</td>\n      <td>NaN</td>\n    </tr>\n    <tr>\n      <th>835512</th>\n      <td>tt9914942</td>\n      <td>10</td>\n      <td>nm0739828</td>\n      <td>editor</td>\n      <td>NaN</td>\n      <td>NaN</td>\n    </tr>\n  </tbody>\n</table>\n<p>835513 rows × 6 columns</p>\n</div>"
     },
     "metadata": {},
     "execution_count": 26
    }
   ],
   "source": [
    "title_principles = pd.read_csv(\"/Users/Karam/Documents/GitHub/FTDSExercises/Project3/IMDB dataset/IMDb title_principals.csv\")\n",
    "title_principles"
   ]
  },
  {
   "cell_type": "code",
   "execution_count": 32,
   "metadata": {},
   "outputs": [
    {
     "output_type": "execute_result",
     "data": {
      "text/plain": [
       "imdb_title_id                0\n",
       "title                        0\n",
       "original_title               0\n",
       "year                         0\n",
       "date_published               0\n",
       "genre                        0\n",
       "duration                     0\n",
       "country                     64\n",
       "language                   833\n",
       "director                    87\n",
       "writer                    1572\n",
       "production_company        4455\n",
       "actors                      69\n",
       "description               2115\n",
       "avg_vote                     0\n",
       "votes                        0\n",
       "budget                   62145\n",
       "usa_gross_income         70529\n",
       "worlwide_gross_income    54839\n",
       "metascore                72550\n",
       "reviews_from_users        7597\n",
       "reviews_from_critics     11797\n",
       "dtype: int64"
      ]
     },
     "metadata": {},
     "execution_count": 32
    }
   ],
   "source": [
    "movies.isnull().sum()\n",
    "\n"
   ]
  },
  {
   "source": [
    "# Drop columns with more than 10% null values\n",
    "drop_cols = movies.isnull().sum()/len(movies) <=0.1\n",
    "new_movies = movies.loc[:,drop_cols]"
   ],
   "cell_type": "code",
   "metadata": {},
   "execution_count": 44,
   "outputs": []
  },
  {
   "cell_type": "code",
   "execution_count": 46,
   "metadata": {},
   "outputs": [],
   "source": [
    "drop_cols2 = ratings.isnull().sum()/len(movies)<= 0.1\n",
    "new_ratings = ratings.loc[:, drop_cols2]"
   ]
  },
  {
   "cell_type": "code",
   "execution_count": 48,
   "metadata": {},
   "outputs": [
    {
     "output_type": "execute_result",
     "data": {
      "text/plain": [
       "                                        title                  original_title  \\\n",
       "imdb_title_id                                                                   \n",
       "tt0000009                          Miss Jerry                      Miss Jerry   \n",
       "tt0000574         The Story of the Kelly Gang     The Story of the Kelly Gang   \n",
       "tt0001892                      Den sorte drøm                  Den sorte drøm   \n",
       "tt0002101                           Cleopatra                       Cleopatra   \n",
       "tt0002130                           L'Inferno                       L'Inferno   \n",
       "...                                       ...                             ...   \n",
       "tt9908390                             Le lion                         Le lion   \n",
       "tt9911196      De Beentjes van Sint-Hildegard  De Beentjes van Sint-Hildegard   \n",
       "tt9911774           Padmavyuhathile Abhimanyu       Padmavyuhathile Abhimanyu   \n",
       "tt9914286                   Sokagin Çocuklari               Sokagin Çocuklari   \n",
       "tt9914942          La vida sense la Sara Amat      La vida sense la Sara Amat   \n",
       "\n",
       "               year date_published                      genre  duration  \\\n",
       "imdb_title_id                                                             \n",
       "tt0000009      1894     1894-10-09                    Romance        45   \n",
       "tt0000574      1906     1906-12-26    Biography, Crime, Drama        70   \n",
       "tt0001892      1911     1911-08-19                      Drama        53   \n",
       "tt0002101      1912     1912-11-13             Drama, History       100   \n",
       "tt0002130      1911     1911-03-06  Adventure, Drama, Fantasy        68   \n",
       "...             ...            ...                        ...       ...   \n",
       "tt9908390      2020     2020-01-29                     Comedy        95   \n",
       "tt9911196      2020     2020-02-13              Comedy, Drama       103   \n",
       "tt9911774      2019     2019-03-08                      Drama       130   \n",
       "tt9914286      2019     2019-03-15              Drama, Family        98   \n",
       "tt9914942      2019     2020-02-05                      Drama        74   \n",
       "\n",
       "                        country       language  \\\n",
       "imdb_title_id                                    \n",
       "tt0000009                   USA           None   \n",
       "tt0000574             Australia           None   \n",
       "tt0001892      Germany, Denmark            NaN   \n",
       "tt0002101                   USA        English   \n",
       "tt0002130                 Italy        Italian   \n",
       "...                         ...            ...   \n",
       "tt9908390       France, Belgium         French   \n",
       "tt9911196           Netherlands  German, Dutch   \n",
       "tt9911774                 India      Malayalam   \n",
       "tt9914286                Turkey        Turkish   \n",
       "tt9914942                 Spain        Catalan   \n",
       "\n",
       "                                          director  \\\n",
       "imdb_title_id                                        \n",
       "tt0000009                          Alexander Black   \n",
       "tt0000574                             Charles Tait   \n",
       "tt0001892                                Urban Gad   \n",
       "tt0002101                       Charles L. Gaskill   \n",
       "tt0002130      Francesco Bertolini, Adolfo Padovan   \n",
       "...                                            ...   \n",
       "tt9908390                   Ludovic Colbeau-Justin   \n",
       "tt9911196                          Johan Nijenhuis   \n",
       "tt9911774                          Vineesh Aaradya   \n",
       "tt9914286                        Ahmet Faik Akinci   \n",
       "tt9914942                                Laura Jou   \n",
       "\n",
       "                                              writer  ...  \\\n",
       "imdb_title_id                                         ...   \n",
       "tt0000009                            Alexander Black  ...   \n",
       "tt0000574                               Charles Tait  ...   \n",
       "tt0001892      Urban Gad, Gebhard Schätzler-Perasini  ...   \n",
       "tt0002101                           Victorien Sardou  ...   \n",
       "tt0002130                            Dante Alighieri  ...   \n",
       "...                                              ...  ...   \n",
       "tt9908390      Alexandre Coquelle, Matthieu Le Naour  ...   \n",
       "tt9911196               Radek Bajgar, Herman Finkers  ...   \n",
       "tt9911774           Vineesh Aaradya, Vineesh Aaradya  ...   \n",
       "tt9914286             Ahmet Faik Akinci, Kasim Uçkan  ...   \n",
       "tt9914942                       Coral Cruz, Pep Puig  ...   \n",
       "\n",
       "              females_30age_avg_vote females_30age_votes  \\\n",
       "imdb_title_id                                              \n",
       "tt0000009                        5.7                13.0   \n",
       "tt0000574                        6.2                23.0   \n",
       "tt0001892                        5.8                 4.0   \n",
       "tt0002101                        5.5                14.0   \n",
       "tt0002130                        7.3                82.0   \n",
       "...                              ...                 ...   \n",
       "tt9908390                        5.7                11.0   \n",
       "tt9911196                        8.0                47.0   \n",
       "tt9911774                        NaN                 NaN   \n",
       "tt9914286                        NaN                 NaN   \n",
       "tt9914942                        6.8                 4.0   \n",
       "\n",
       "              females_45age_avg_vote  females_45age_votes  \\\n",
       "imdb_title_id                                               \n",
       "tt0000009                        4.5                  4.0   \n",
       "tt0000574                        6.6                 14.0   \n",
       "tt0001892                        6.8                  7.0   \n",
       "tt0002101                        6.1                 21.0   \n",
       "tt0002130                        7.4                 77.0   \n",
       "...                              ...                  ...   \n",
       "tt9908390                        5.0                  2.0   \n",
       "tt9911196                        7.3                 30.0   \n",
       "tt9911774                        NaN                  NaN   \n",
       "tt9914286                        7.0                  1.0   \n",
       "tt9914942                        7.5                  4.0   \n",
       "\n",
       "               top1000_voters_rating  top1000_voters_votes  us_voters_rating  \\\n",
       "imdb_title_id                                                                  \n",
       "tt0000009                        5.7                  34.0               6.4   \n",
       "tt0000574                        6.4                  66.0               6.0   \n",
       "tt0001892                        5.4                  32.0               6.2   \n",
       "tt0002101                        4.9                  57.0               5.5   \n",
       "tt0002130                        6.9                 139.0               7.0   \n",
       "...                              ...                   ...               ...   \n",
       "tt9908390                        5.5                  12.0               6.3   \n",
       "tt9911196                        7.0                   6.0               6.8   \n",
       "tt9911774                        1.0                   1.0               NaN   \n",
       "tt9914286                        4.0                   3.0               1.7   \n",
       "tt9914942                        7.0                   4.0               6.7   \n",
       "\n",
       "               us_voters_votes  non_us_voters_rating  non_us_voters_votes  \n",
       "imdb_title_id                                                              \n",
       "tt0000009                 51.0                   6.0                 70.0  \n",
       "tt0000574                 96.0                   6.2                331.0  \n",
       "tt0001892                 31.0                   5.9                123.0  \n",
       "tt0002101                207.0                   4.7                105.0  \n",
       "tt0002130                488.0                   7.0               1166.0  \n",
       "...                        ...                   ...                  ...  \n",
       "tt9908390                 22.0                   5.3                214.0  \n",
       "tt9911196                 13.0                   7.7                388.0  \n",
       "tt9911774                  NaN                   2.0                  2.0  \n",
       "tt9914286                  5.0                   5.8                  5.0  \n",
       "tt9914942                 13.0                   6.7                 60.0  \n",
       "\n",
       "[85855 rows x 58 columns]"
      ],
      "text/html": "<div>\n<style scoped>\n    .dataframe tbody tr th:only-of-type {\n        vertical-align: middle;\n    }\n\n    .dataframe tbody tr th {\n        vertical-align: top;\n    }\n\n    .dataframe thead th {\n        text-align: right;\n    }\n</style>\n<table border=\"1\" class=\"dataframe\">\n  <thead>\n    <tr style=\"text-align: right;\">\n      <th></th>\n      <th>title</th>\n      <th>original_title</th>\n      <th>year</th>\n      <th>date_published</th>\n      <th>genre</th>\n      <th>duration</th>\n      <th>country</th>\n      <th>language</th>\n      <th>director</th>\n      <th>writer</th>\n      <th>...</th>\n      <th>females_30age_avg_vote</th>\n      <th>females_30age_votes</th>\n      <th>females_45age_avg_vote</th>\n      <th>females_45age_votes</th>\n      <th>top1000_voters_rating</th>\n      <th>top1000_voters_votes</th>\n      <th>us_voters_rating</th>\n      <th>us_voters_votes</th>\n      <th>non_us_voters_rating</th>\n      <th>non_us_voters_votes</th>\n    </tr>\n    <tr>\n      <th>imdb_title_id</th>\n      <th></th>\n      <th></th>\n      <th></th>\n      <th></th>\n      <th></th>\n      <th></th>\n      <th></th>\n      <th></th>\n      <th></th>\n      <th></th>\n      <th></th>\n      <th></th>\n      <th></th>\n      <th></th>\n      <th></th>\n      <th></th>\n      <th></th>\n      <th></th>\n      <th></th>\n      <th></th>\n      <th></th>\n    </tr>\n  </thead>\n  <tbody>\n    <tr>\n      <th>tt0000009</th>\n      <td>Miss Jerry</td>\n      <td>Miss Jerry</td>\n      <td>1894</td>\n      <td>1894-10-09</td>\n      <td>Romance</td>\n      <td>45</td>\n      <td>USA</td>\n      <td>None</td>\n      <td>Alexander Black</td>\n      <td>Alexander Black</td>\n      <td>...</td>\n      <td>5.7</td>\n      <td>13.0</td>\n      <td>4.5</td>\n      <td>4.0</td>\n      <td>5.7</td>\n      <td>34.0</td>\n      <td>6.4</td>\n      <td>51.0</td>\n      <td>6.0</td>\n      <td>70.0</td>\n    </tr>\n    <tr>\n      <th>tt0000574</th>\n      <td>The Story of the Kelly Gang</td>\n      <td>The Story of the Kelly Gang</td>\n      <td>1906</td>\n      <td>1906-12-26</td>\n      <td>Biography, Crime, Drama</td>\n      <td>70</td>\n      <td>Australia</td>\n      <td>None</td>\n      <td>Charles Tait</td>\n      <td>Charles Tait</td>\n      <td>...</td>\n      <td>6.2</td>\n      <td>23.0</td>\n      <td>6.6</td>\n      <td>14.0</td>\n      <td>6.4</td>\n      <td>66.0</td>\n      <td>6.0</td>\n      <td>96.0</td>\n      <td>6.2</td>\n      <td>331.0</td>\n    </tr>\n    <tr>\n      <th>tt0001892</th>\n      <td>Den sorte drøm</td>\n      <td>Den sorte drøm</td>\n      <td>1911</td>\n      <td>1911-08-19</td>\n      <td>Drama</td>\n      <td>53</td>\n      <td>Germany, Denmark</td>\n      <td>NaN</td>\n      <td>Urban Gad</td>\n      <td>Urban Gad, Gebhard Schätzler-Perasini</td>\n      <td>...</td>\n      <td>5.8</td>\n      <td>4.0</td>\n      <td>6.8</td>\n      <td>7.0</td>\n      <td>5.4</td>\n      <td>32.0</td>\n      <td>6.2</td>\n      <td>31.0</td>\n      <td>5.9</td>\n      <td>123.0</td>\n    </tr>\n    <tr>\n      <th>tt0002101</th>\n      <td>Cleopatra</td>\n      <td>Cleopatra</td>\n      <td>1912</td>\n      <td>1912-11-13</td>\n      <td>Drama, History</td>\n      <td>100</td>\n      <td>USA</td>\n      <td>English</td>\n      <td>Charles L. Gaskill</td>\n      <td>Victorien Sardou</td>\n      <td>...</td>\n      <td>5.5</td>\n      <td>14.0</td>\n      <td>6.1</td>\n      <td>21.0</td>\n      <td>4.9</td>\n      <td>57.0</td>\n      <td>5.5</td>\n      <td>207.0</td>\n      <td>4.7</td>\n      <td>105.0</td>\n    </tr>\n    <tr>\n      <th>tt0002130</th>\n      <td>L'Inferno</td>\n      <td>L'Inferno</td>\n      <td>1911</td>\n      <td>1911-03-06</td>\n      <td>Adventure, Drama, Fantasy</td>\n      <td>68</td>\n      <td>Italy</td>\n      <td>Italian</td>\n      <td>Francesco Bertolini, Adolfo Padovan</td>\n      <td>Dante Alighieri</td>\n      <td>...</td>\n      <td>7.3</td>\n      <td>82.0</td>\n      <td>7.4</td>\n      <td>77.0</td>\n      <td>6.9</td>\n      <td>139.0</td>\n      <td>7.0</td>\n      <td>488.0</td>\n      <td>7.0</td>\n      <td>1166.0</td>\n    </tr>\n    <tr>\n      <th>...</th>\n      <td>...</td>\n      <td>...</td>\n      <td>...</td>\n      <td>...</td>\n      <td>...</td>\n      <td>...</td>\n      <td>...</td>\n      <td>...</td>\n      <td>...</td>\n      <td>...</td>\n      <td>...</td>\n      <td>...</td>\n      <td>...</td>\n      <td>...</td>\n      <td>...</td>\n      <td>...</td>\n      <td>...</td>\n      <td>...</td>\n      <td>...</td>\n      <td>...</td>\n      <td>...</td>\n    </tr>\n    <tr>\n      <th>tt9908390</th>\n      <td>Le lion</td>\n      <td>Le lion</td>\n      <td>2020</td>\n      <td>2020-01-29</td>\n      <td>Comedy</td>\n      <td>95</td>\n      <td>France, Belgium</td>\n      <td>French</td>\n      <td>Ludovic Colbeau-Justin</td>\n      <td>Alexandre Coquelle, Matthieu Le Naour</td>\n      <td>...</td>\n      <td>5.7</td>\n      <td>11.0</td>\n      <td>5.0</td>\n      <td>2.0</td>\n      <td>5.5</td>\n      <td>12.0</td>\n      <td>6.3</td>\n      <td>22.0</td>\n      <td>5.3</td>\n      <td>214.0</td>\n    </tr>\n    <tr>\n      <th>tt9911196</th>\n      <td>De Beentjes van Sint-Hildegard</td>\n      <td>De Beentjes van Sint-Hildegard</td>\n      <td>2020</td>\n      <td>2020-02-13</td>\n      <td>Comedy, Drama</td>\n      <td>103</td>\n      <td>Netherlands</td>\n      <td>German, Dutch</td>\n      <td>Johan Nijenhuis</td>\n      <td>Radek Bajgar, Herman Finkers</td>\n      <td>...</td>\n      <td>8.0</td>\n      <td>47.0</td>\n      <td>7.3</td>\n      <td>30.0</td>\n      <td>7.0</td>\n      <td>6.0</td>\n      <td>6.8</td>\n      <td>13.0</td>\n      <td>7.7</td>\n      <td>388.0</td>\n    </tr>\n    <tr>\n      <th>tt9911774</th>\n      <td>Padmavyuhathile Abhimanyu</td>\n      <td>Padmavyuhathile Abhimanyu</td>\n      <td>2019</td>\n      <td>2019-03-08</td>\n      <td>Drama</td>\n      <td>130</td>\n      <td>India</td>\n      <td>Malayalam</td>\n      <td>Vineesh Aaradya</td>\n      <td>Vineesh Aaradya, Vineesh Aaradya</td>\n      <td>...</td>\n      <td>NaN</td>\n      <td>NaN</td>\n      <td>NaN</td>\n      <td>NaN</td>\n      <td>1.0</td>\n      <td>1.0</td>\n      <td>NaN</td>\n      <td>NaN</td>\n      <td>2.0</td>\n      <td>2.0</td>\n    </tr>\n    <tr>\n      <th>tt9914286</th>\n      <td>Sokagin Çocuklari</td>\n      <td>Sokagin Çocuklari</td>\n      <td>2019</td>\n      <td>2019-03-15</td>\n      <td>Drama, Family</td>\n      <td>98</td>\n      <td>Turkey</td>\n      <td>Turkish</td>\n      <td>Ahmet Faik Akinci</td>\n      <td>Ahmet Faik Akinci, Kasim Uçkan</td>\n      <td>...</td>\n      <td>NaN</td>\n      <td>NaN</td>\n      <td>7.0</td>\n      <td>1.0</td>\n      <td>4.0</td>\n      <td>3.0</td>\n      <td>1.7</td>\n      <td>5.0</td>\n      <td>5.8</td>\n      <td>5.0</td>\n    </tr>\n    <tr>\n      <th>tt9914942</th>\n      <td>La vida sense la Sara Amat</td>\n      <td>La vida sense la Sara Amat</td>\n      <td>2019</td>\n      <td>2020-02-05</td>\n      <td>Drama</td>\n      <td>74</td>\n      <td>Spain</td>\n      <td>Catalan</td>\n      <td>Laura Jou</td>\n      <td>Coral Cruz, Pep Puig</td>\n      <td>...</td>\n      <td>6.8</td>\n      <td>4.0</td>\n      <td>7.5</td>\n      <td>4.0</td>\n      <td>7.0</td>\n      <td>4.0</td>\n      <td>6.7</td>\n      <td>13.0</td>\n      <td>6.7</td>\n      <td>60.0</td>\n    </tr>\n  </tbody>\n</table>\n<p>85855 rows × 58 columns</p>\n</div>"
     },
     "metadata": {},
     "execution_count": 48
    }
   ],
   "source": [
    "#joining the two dataframes into a big data frame\n",
    "df = new_movies.set_index('imdb_title_id').join(new_ratings.set_index('imdb_title_id'))\n",
    "df\n"
   ]
  },
  {
   "cell_type": "code",
   "execution_count": null,
   "metadata": {},
   "outputs": [],
   "source": []
  }
 ]
}